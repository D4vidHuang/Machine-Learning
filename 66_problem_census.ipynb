{
 "cells": [
  {
   "cell_type": "markdown",
   "metadata": {},
   "source": [
    "# American Census"
   ]
  },
  {
   "cell_type": "code",
   "execution_count": 8,
   "metadata": {
    "collapsed": true
   },
   "outputs": [],
   "source": [
    "import numpy as np\n",
    "import pandas as pd\n",
    "import matplotlib.pyplot as plt\n",
    "\n",
    "from sklearn.tree import DecisionTreeClassifier\n",
    "from sklearn.dummy import DummyClassifier\n",
    "from sklearn.naive_bayes import GaussianNB\n",
    "from sklearn.neighbors import KNeighborsClassifier\n",
    "from sklearn.linear_model import LogisticRegression\n",
    "from sklearn.svm import SVC"
   ]
  },
  {
   "cell_type": "markdown",
   "metadata": {},
   "source": [
    "### Load data"
   ]
  },
  {
   "cell_type": "code",
   "execution_count": 9,
   "metadata": {
    "collapsed": true
   },
   "outputs": [],
   "source": [
    "X_train = pd.read_csv(\"AmericanCensus/X_train.csv\")\n",
    "y_train = pd.read_csv(\"AmericanCensus/y_train.csv\")\n",
    "X_test = pd.read_csv(\"AmericanCensus/X_test.csv\")"
   ]
  },
  {
   "cell_type": "markdown",
   "metadata": {},
   "source": [
    "### Data exploration"
   ]
  },
  {
   "cell_type": "markdown",
   "metadata": {},
   "source": [
    "#### Question 3.1.1"
   ]
  },
  {
   "cell_type": "code",
   "execution_count": 10,
   "metadata": {},
   "outputs": [
    {
     "name": "stdout",
     "output_type": "stream",
     "text": [
      "<class 'pandas.core.frame.DataFrame'>\n",
      "RangeIndex: 16280 entries, 0 to 16279\n",
      "Data columns (total 12 columns):\n",
      " #   Column          Non-Null Count  Dtype  \n",
      "---  ------          --------------  -----  \n",
      " 0   age             16280 non-null  int64  \n",
      " 1   education-num   16040 non-null  float64\n",
      " 2   hours-per-week  16280 non-null  int64  \n",
      " 3   workclass       15344 non-null  object \n",
      " 4   education       16280 non-null  object \n",
      " 5   marital-status  16280 non-null  object \n",
      " 6   occupation      15099 non-null  object \n",
      " 7   relationship    16280 non-null  object \n",
      " 8   race            16280 non-null  object \n",
      " 9   sex             16280 non-null  object \n",
      " 10  native-country  15980 non-null  object \n",
      " 11  salary          16280 non-null  int64  \n",
      "dtypes: float64(1), int64(3), object(8)\n",
      "memory usage: 1.5+ MB\n"
     ]
    }
   ],
   "source": [
    "# Aim to keep your answers structured for the reviewers\n",
    "frames = [X_train, y_train]\n",
    "data = pd.concat(frames, axis = 1)\n",
    "data.info()"
   ]
  },
  {
   "cell_type": "markdown",
   "metadata": {},
   "source": [
    "### Data preparation"
   ]
  },
  {
   "cell_type": "code",
   "execution_count": 11,
   "metadata": {},
   "outputs": [
    {
     "name": "stdout",
     "output_type": "stream",
     "text": [
      "<class 'pandas.core.frame.DataFrame'>\n",
      "Int64Index: 14707 entries, 0 to 16279\n",
      "Data columns (total 12 columns):\n",
      " #   Column         Non-Null Count  Dtype  \n",
      "---  ------         --------------  -----  \n",
      " 0   age            14707 non-null  int64  \n",
      " 1   educationnum   14707 non-null  float64\n",
      " 2   hoursperweek   14707 non-null  int64  \n",
      " 3   workclass      14707 non-null  object \n",
      " 4   education      14707 non-null  object \n",
      " 5   maritalstatus  14707 non-null  object \n",
      " 6   occupation     14707 non-null  object \n",
      " 7   relationship   14707 non-null  object \n",
      " 8   race           14707 non-null  object \n",
      " 9   sex            14707 non-null  object \n",
      " 10  nativecountry  14707 non-null  object \n",
      " 11  salary         14707 non-null  int64  \n",
      "dtypes: float64(1), int64(3), object(8)\n",
      "memory usage: 1.5+ MB\n"
     ]
    }
   ],
   "source": [
    "#clear the data and transform the data into numerical format\n",
    "data.dropna(how='any',inplace=True)\n",
    "X_test.dropna(how='any',inplace=True)\n",
    "#data.info()\n",
    "\n",
    "data.rename(columns={'native-country': 'nativecountry','hours-per-week': 'hoursperweek','marital-status': 'maritalstatus','education-num':'educationnum'}, inplace=True)\n",
    "X_test.rename(columns={'native-country': 'nativecountry','hours-per-week': 'hoursperweek','marital-status': 'maritalstatus','education-num':'educationnum'}, inplace=True)\n",
    "data.info()\n",
    "data.workclass.unique()\n",
    "data['workclass'] = data['workclass'].map({' Private':0, ' Federal-gov':1, ' Local-gov':2, ' Self-emp-not-inc':3,' State-gov':4, ' Self-emp-inc':5, ' Without-pay':6}).astype(int)\n",
    "X_test['workclass'] = X_test['workclass'].map({' Private':0, ' Federal-gov':1, ' Local-gov':2, ' Self-emp-not-inc':3,' State-gov':4, ' Self-emp-inc':5, ' Without-pay':6}).astype(int)\n",
    "\n",
    "#education\n",
    "eu = np.array(data.education.unique())\n",
    "value = np.arange(eu.shape[0])\n",
    "res = dict(map(lambda i,j : (i,j) , eu,value))\n",
    "data['education'] = data['education'].map(res).astype(int)\n",
    "\n",
    "eu = np.array(X_test.education.unique())\n",
    "value = np.arange(eu.shape[0])\n",
    "res = dict(map(lambda i,j : (i,j) , eu,value))\n",
    "X_test['education'] = X_test['education'].map(res).astype(int)\n",
    "#marital-status\n",
    "eu = np.array(data.maritalstatus.unique())\n",
    "value = np.arange(eu.shape[0])\n",
    "res = dict(map(lambda i,j : (i,j) , eu,value))\n",
    "data['maritalstatus'] = data['maritalstatus'].map(res).astype(int)\n",
    "\n",
    "eu = np.array(X_test.maritalstatus.unique())\n",
    "value = np.arange(eu.shape[0])\n",
    "res = dict(map(lambda i,j : (i,j) , eu,value))\n",
    "X_test['maritalstatus'] = X_test['maritalstatus'].map(res).astype(int)\n",
    "#occupation\n",
    "eu = np.array(data.occupation.unique())\n",
    "value = np.arange(eu.shape[0])\n",
    "res = dict(map(lambda i,j : (i,j) , eu,value))\n",
    "data['occupation'] = data['occupation'].map(res).astype(int)\n",
    "\n",
    "eu = np.array(X_test.occupation.unique())\n",
    "value = np.arange(eu.shape[0])\n",
    "res = dict(map(lambda i,j : (i,j) , eu,value))\n",
    "X_test['occupation'] = X_test['occupation'].map(res).astype(int)\n",
    "#relationship\n",
    "eu = np.array(data.relationship.unique())\n",
    "value = np.arange(eu.shape[0])\n",
    "res = dict(map(lambda i,j : (i,j) , eu,value))\n",
    "data['relationship'] = data['relationship'].map(res).astype(int)\n",
    "\n",
    "eu = np.array(X_test.relationship.unique())\n",
    "value = np.arange(eu.shape[0])\n",
    "res = dict(map(lambda i,j : (i,j) , eu,value))\n",
    "X_test['relationship'] = X_test['relationship'].map(res).astype(int)\n",
    "#race\n",
    "eu = np.array(data.race.unique())\n",
    "value = np.arange(eu.shape[0])\n",
    "res = dict(map(lambda i,j : (i,j) , eu,value))\n",
    "data['race'] = data['race'].map(res).astype(int)\n",
    "\n",
    "eu = np.array(X_test.race.unique())\n",
    "value = np.arange(eu.shape[0])\n",
    "res = dict(map(lambda i,j : (i,j) , eu,value))\n",
    "X_test['race'] = X_test['race'].map(res).astype(int)\n",
    "#sex\n",
    "eu = np.array(data.sex.unique())\n",
    "value = np.arange(eu.shape[0])\n",
    "res = dict(map(lambda i,j : (i,j) , eu,value))\n",
    "data['sex'] = data['sex'].map(res).astype(int)\n",
    "\n",
    "eu = np.array(X_test.sex.unique())\n",
    "value = np.arange(eu.shape[0])\n",
    "res = dict(map(lambda i,j : (i,j) , eu,value))\n",
    "X_test['sex'] = X_test['sex'].map(res).astype(int)\n",
    "#nativecountry\n",
    "eu = np.array(data.nativecountry.unique())\n",
    "value = np.arange(eu.shape[0])\n",
    "res = dict(map(lambda i,j : (i,j) , eu,value))\n",
    "data['nativecountry'] = data['nativecountry'].map(res).astype(int)\n",
    "\n",
    "eu = np.array(X_test.nativecountry.unique())\n",
    "value = np.arange(eu.shape[0])\n",
    "res = dict(map(lambda i,j : (i,j) , eu,value))\n",
    "X_test['nativecountry'] = X_test['nativecountry'].map(res).astype(int)"
   ]
  },
  {
   "cell_type": "code",
   "execution_count": 12,
   "metadata": {
    "scrolled": true
   },
   "outputs": [
    {
     "name": "stdout",
     "output_type": "stream",
     "text": [
      "(14707, 11)\n",
      "(14707,)\n",
      "[0 0 1 ... 0 0 0]\n",
      "(14747, 11)\n"
     ]
    }
   ],
   "source": [
    "#transform the data into np.array for training\n",
    "Y_train = data['salary']\n",
    "y_train = np.array(Y_train)\n",
    "X_train = data[['age', 'educationnum','hoursperweek','workclass', 'education', 'maritalstatus', 'occupation', 'relationship','race','sex','nativecountry']]\n",
    "x_train = np.array(X_train)\n",
    "x_test = np.array(X_test)\n",
    "print(x_train.shape)\n",
    "print(y_train.shape)\n",
    "print(y_train)\n",
    "print(x_test.shape)"
   ]
  },
  {
   "cell_type": "markdown",
   "metadata": {},
   "source": [
    "### Experiments"
   ]
  },
  {
   "cell_type": "markdown",
   "metadata": {},
   "source": [
    "#### Question 3.3.6"
   ]
  },
  {
   "cell_type": "code",
   "execution_count": 13,
   "metadata": {
    "collapsed": true
   },
   "outputs": [],
   "source": [
    "# create models\n",
    "from sklearn.linear_model import SGDClassifier\n",
    "from sklearn.decomposition import PCA\n",
    "from sklearn import preprocessing\n",
    "from sklearn.model_selection import KFold\n",
    "from sklearn.model_selection import cross_validate\n",
    "from sklearn.metrics import make_scorer\n",
    "from sklearn.metrics import f1_score, accuracy_score\n",
    "from sklearn.model_selection import GridSearchCV\n",
    "from sklearn.experimental import enable_halving_search_cv\n",
    "from sklearn.model_selection import HalvingGridSearchCV\n",
    "random_state = 42\n",
    "\n",
    "models = {\n",
    "    \"GaussianNB\": GaussianNB(),\n",
    "    \"DecisionTreeClassifier\": DecisionTreeClassifier(max_depth=None, min_samples_leaf=2, random_state=random_state),\n",
    "    \"KNeighborsClassifier\": KNeighborsClassifier(n_neighbors=3, weights=\"distance\"),\n",
    "    \"SVM\": SVC(C = 10, kernel = \"poly\", degree = 3, gamma = 'scale', random_state = random_state),\n",
    "    \"SGDClassifier\": SGDClassifier(loss = 'log', alpha = 10, learning_rate = 'constant', eta0 = 0.1, penalty = 'none', random_state = 42)\n",
    "}\n",
    "pca = PCA(10)\n",
    "scaler = preprocessing.StandardScaler().fit(x_train)\n",
    "\n",
    "def k_fold_fit_and_evaluate(X, y, model, scoring_method, n_splits=5):\n",
    "    # Define evaluation procedure\n",
    "    cv = KFold(n_splits=n_splits, random_state=42, shuffle=True)\n",
    "    # Evaluate model\n",
    "    scores = cross_validate(model, X, y, scoring=scoring_method, cv=cv, n_jobs=-1)  \n",
    "    return scores[\"test_score\"]"
   ]
  },
  {
   "cell_type": "code",
   "execution_count": 14,
   "metadata": {},
   "outputs": [
    {
     "name": "stdout",
     "output_type": "stream",
     "text": [
      "(14707, 11)\n",
      "(14707,)\n",
      "GaussianNB\n",
      "mean_f1 0.7626792096205078\n",
      "std_f1 0.00943601736461037\n",
      "mean_acc 0.7728959590736559\n",
      "std_acc 0.008666440932592636\n",
      "DecisionTreeClassifier\n",
      "mean_f1 0.7902620020807093\n",
      "std_f1 0.004919852491772266\n",
      "mean_acc 0.7830959932375003\n",
      "std_acc 0.004309038512039489\n",
      "KNeighborsClassifier\n",
      "mean_f1 0.796755669406749\n",
      "std_f1 0.005691154673788473\n",
      "mean_acc 0.7932953570688068\n",
      "std_acc 0.0045521431494088055\n",
      "SVM\n",
      "mean_f1 0.828232624678239\n",
      "std_f1 0.0035380589134730235\n",
      "mean_acc 0.813218056169706\n",
      "std_acc 0.0035437577687546435\n",
      "SGDClassifier\n",
      "mean_f1 0.8049720600141785\n",
      "std_f1 0.012648540982432382\n",
      "mean_acc 0.7976475488597298\n",
      "std_acc 0.010798121785496752\n"
     ]
    },
    {
     "data": {
      "image/png": "[encoded data removed]",
      "text/plain": [
       "<Figure size 432x288 with 1 Axes>"
      ]
     },
     "metadata": {
      "needs_background": "light"
     },
     "output_type": "display_data"
    },
    {
     "data": {
      "image/png": "[encoded data removed]",
      "text/plain": [
       "<Figure size 432x288 with 1 Axes>"
      ]
     },
     "metadata": {
      "needs_background": "light"
     },
     "output_type": "display_data"
    }
   ],
   "source": [
    "# use k-fold to train models\n",
    "\n",
    "XX = scaler.transform(x_train)\n",
    "#XX = x_train\n",
    "#XX = pca.fit_transform(XX)\n",
    "print(XX.shape)\n",
    "y = y_train\n",
    "print(y_train.shape)\n",
    "n_splits = 5\n",
    "scoring_method_f1 = make_scorer(lambda prediction, true_target: f1_score(true_target, prediction, average=\"weighted\"))\n",
    "scoring_method_accuracy = make_scorer(lambda prediction, true_target: accuracy_score(true_target, prediction))\n",
    "\n",
    "performance = []\n",
    "variance = []\n",
    "label = ['GaussianNB','DecisionTree','KNeighbors','SVM','SGD' ]\n",
    "for name, model in models.items():\n",
    "    print(name)\n",
    "    metrics_f1 = k_fold_fit_and_evaluate(XX, y, model, scoring_method_f1, n_splits=n_splits) \n",
    "    accuracy = k_fold_fit_and_evaluate(XX, y, model, scoring_method_accuracy, n_splits=n_splits) \n",
    "    performance.append(np.mean(accuracy))\n",
    "    variance.append(np.std(accuracy))\n",
    "    print(\"mean_f1\", np.mean(metrics_f1))\n",
    "    print(\"std_f1\", np.std(metrics_f1))\n",
    "    print(\"mean_acc\", np.mean(accuracy))\n",
    "    print(\"std_acc\", np.std(accuracy))\n",
    "axx = np.arange(len(performance))\n",
    "plt.stem(axx, np.array(performance)*100)\n",
    "plt.xticks(axx, label)\n",
    "plt.title('accuracy')\n",
    "plt.show()\n",
    "plt.stem(axx, variance)\n",
    "plt.xticks(axx, label)\n",
    "plt.title('variance')\n",
    "plt.show()"
   ]
  },
  {
   "cell_type": "code",
   "execution_count": 19,
   "metadata": {},
   "outputs": [
    {
     "name": "stdout",
     "output_type": "stream",
     "text": [
      "GaussianNB\n",
      "- best_score = 0.7728959590736559\n",
      "best paramters:\n",
      "DecisionTreeClassifier\n",
      "- best_score = 0.8212019461099704\n",
      "best paramters:\n",
      "- max_depth 30\n",
      "- min_samples_leaf 32\n",
      "KNeighborsClassifier\n",
      "- best_score = 0.8168948041644404\n",
      "best paramters:\n",
      "- n_neighbors 9\n",
      "- weights uniform\n"
     ]
    },
    {
     "name": "stderr",
     "output_type": "stream",
     "text": [
      "/usr/lib/python3.7/site-packages/joblib/externals/loky/process_executor.py:706: UserWarning: A worker stopped while some jobs were given to the executor. This can be caused by a too short worker timeout or by a memory leak.\n",
      "  \"timeout or by a memory leak.\", UserWarning\n"
     ]
    },
    {
     "name": "stdout",
     "output_type": "stream",
     "text": [
      "SVM\n",
      "- best_score = 0.7946764406233309\n",
      "best paramters:\n",
      "- C 30\n",
      "- degree 3\n",
      "- gamma 1.0\n",
      "- kernel rbf\n",
      "SGDClassifier\n",
      "- best_score = 0.8082129776119507\n",
      "best paramters:\n",
      "- alpha 10\n",
      "- eta0 0.04\n",
      "- penalty none\n"
     ]
    }
   ],
   "source": [
    "#use GridSearchCV to tune the hyper-parameter\n",
    "\n",
    "scoring_method = make_scorer(lambda true_target, prediction: f1_score(true_target, prediction, average=\"weighted\"))\n",
    "\n",
    "model_parameters = {\n",
    "    \"GaussianNB\": {\n",
    "    \n",
    "    },\n",
    "    \"DecisionTreeClassifier\": {\n",
    "        'max_depth': [None, 2, 5, 10, 15, 20, 30, 50, 100],\n",
    "        'min_samples_leaf':[2, 8, 16, 32, 64, 128]\n",
    "    },\n",
    "    \"KNeighborsClassifier\": {\n",
    "        'n_neighbors':[ 3, 9 , 15, 21, 27, 32, 40, 49, 55, 64],\n",
    "        'weights':['distance', 'uniform']\n",
    "    },\n",
    "    \"SVM\": {\n",
    "        'C':[10, 30, 50, 80, 100],\n",
    "        'kernel':['linear', 'poly', 'rbf'],\n",
    "        'degree':[3, 5 ,7 ,9, 11, 13],\n",
    "        'gamma':['scale', 'auto', 0.1, 0.5, 1.0, 1.5]\n",
    "    },\n",
    "#     \"SGDClassifier\":{\n",
    "#         'alpha':[5, 10, 20 ,30, 50, 100],\n",
    "#         'eta0':[0.1, 0.3, 0.5, 0.8, 1.0],\n",
    "#         'penalty':['none', 'l2', 'l1']\n",
    "#     }\n",
    "    \"SGDClassifier\":{\n",
    "        'alpha':[3, 5, 10, 15, 20 ,30, 50, 100],\n",
    "        'eta0':[0.01, 0.04, 0.06, 0.08, 0.1, 0.3, 0.5, 0.8, 1.0],\n",
    "        'penalty':['none', 'l2', 'l1']\n",
    "    }\n",
    "}\n",
    "\n",
    "bperformance = []\n",
    "for model_name, parameters in model_parameters.items():\n",
    "    model = models[model_name]\n",
    "    \n",
    "    cv = KFold(n_splits=n_splits, random_state=random_state, shuffle=True)\n",
    "    #grid_search = GridSearchCV(model, parameters, cv=cv, n_jobs=-1, verbose=False, scoring=scoring_method_accuracy).fit(XX, y)\n",
    "    grid_search = HalvingGridSearchCV(model, parameters,cv=cv, scoring=scoring_method_accuracy, n_jobs=-1, verbose=False, min_resources=\"exhaust\", factor=3).fit(XX, y) \n",
    "    best_model = grid_search.best_estimator_\n",
    "    best_score = grid_search.best_score_\n",
    "    best_params = grid_search.best_params_\n",
    "    \n",
    "    print(model_name)\n",
    "    print(\"- best_score =\", best_score)\n",
    "    bperformance.append(best_score)\n",
    "    print(\"best paramters:\")\n",
    "    for k,v in best_params.items():\n",
    "        print(\"-\", k, v)"
   ]
  },
  {
   "cell_type": "code",
   "execution_count": 20,
   "metadata": {},
   "outputs": [
    {
     "data": {
      "image/png": "[encoded data removed]",
      "text/plain": [
       "<Figure size 432x288 with 1 Axes>"
      ]
     },
     "metadata": {
      "needs_background": "light"
     },
     "output_type": "display_data"
    },
    {
     "data": {
      "image/png": "[encoded data removed]",
      "text/plain": [
       "<Figure size 432x288 with 1 Axes>"
      ]
     },
     "metadata": {
      "needs_background": "light"
     },
     "output_type": "display_data"
    },
    {
     "data": {
      "image/png": "[encoded data removed]",
      "text/plain": [
       "<Figure size 432x288 with 1 Axes>"
      ]
     },
     "metadata": {
      "needs_background": "light"
     },
     "output_type": "display_data"
    },
    {
     "data": {
      "image/png": "[encoded data removed]",
      "text/plain": [
       "<Figure size 432x288 with 1 Axes>"
      ]
     },
     "metadata": {
      "needs_background": "light"
     },
     "output_type": "display_data"
    }
   ],
   "source": [
    "#plot the performance\n",
    "plt.plot(axx, np.array(performance)*100)\n",
    "plt.xticks(axx, label)\n",
    "plt.title('accuracy')\n",
    "plt.show()\n",
    "plt.plot(axx, variance)\n",
    "plt.xticks(axx, label)\n",
    "plt.title('variance')\n",
    "plt.show()\n",
    "\n",
    "\n",
    "plt.figure()\n",
    "plt.plot(axx, np.array(performance)*100,  label = 'origin')\n",
    "plt.plot(axx, np.array(bperformance)  * 100, 'r', label = 'tuned')\n",
    "plt.legend(loc='lower center', shadow=True, fontsize='x-large')\n",
    "plt.xticks(axx, label)\n",
    "plt.title('accuracy')\n",
    "plt.show()\n",
    "\n",
    "plt.figure()\n",
    "plt.stem(axx, variance, 'g')\n",
    "plt.stem\n",
    "plt.xticks(axx, label)\n",
    "plt.title('variance')\n",
    "plt.show()"
   ]
  },
  {
   "cell_type": "code",
   "execution_count": 22,
   "metadata": {},
   "outputs": [
    {
     "name": "stdout",
     "output_type": "stream",
     "text": [
      "(14707,)\n",
      "0.8410280818657782\n",
      "0.8498674100768342\n"
     ]
    }
   ],
   "source": [
    "#check the performance\n",
    "fm1 = DecisionTreeClassifier(max_depth=30, min_samples_leaf=32, random_state=random_state)\n",
    "fm2 = KNeighborsClassifier(n_neighbors=9, weights=\"uniform\")\n",
    "#fm = models[\"DecisionTreeClassifier\"]\n",
    "fm1.fit(XX, y_train)\n",
    "fm2.fit(XX, y_train)\n",
    "xt = scaler.transform(x_test)\n",
    "#xt = pca.transform(xt)\n",
    "re1 = fm1.predict(XX)\n",
    "re2 = fm2.predict(XX)\n",
    "print(re1.shape)\n",
    "count = 0\n",
    "for i in range(0, re1.shape[0]):\n",
    "    if(re1[i] == y_train[i]):\n",
    "        count = count + 1\n",
    "count = count/re1.shape[0]\n",
    "print(count)\n",
    "\n",
    "count2 = 0\n",
    "for i in range(0, re2.shape[0]):\n",
    "    if(re2[i] == y_train[i]):\n",
    "        count2 = count2 + 1\n",
    "count2 = count2/re1.shape[0]\n",
    "print(count2)"
   ]
  },
  {
   "cell_type": "code",
   "execution_count": 24,
   "metadata": {},
   "outputs": [
    {
     "name": "stdout",
     "output_type": "stream",
     "text": [
      "- best_score = -14.956139170620798\n",
      "best paramters:\n",
      "- pca__n_components 10\n",
      "[0.20306913 0.13871658 0.11142936 0.10083003 0.08580487 0.08113893\n",
      " 0.07734232 0.06764841 0.0534682  0.05077385]\n"
     ]
    }
   ],
   "source": [
    "#train PCA to find the best parameter\n",
    "from sklearn.pipeline import Pipeline\n",
    "p = {\n",
    "  \n",
    "    \"PCA\":{\n",
    "        'n_components':[1, 2 ,3 ,4 ,5 ,6, 7, 8, 9]\n",
    "    }\n",
    "    \n",
    "}\n",
    "\n",
    "pipe = Pipeline(steps=[(\"scaler\", scaler), (\"pca\", pca)])\n",
    "param_grid = {\n",
    "    \"pca__n_components\": [1, 2 ,3 ,4 ,5 ,6, 7, 8, 9, 10, 11]\n",
    "}\n",
    "for mn,para in p.items():\n",
    "    cv = KFold(n_splits=5, random_state=random_state, shuffle=True)\n",
    "    grid_search1 = GridSearchCV(pipe, param_grid, n_jobs=2).fit(XX, y)\n",
    "    #grid_search1 = GridSearchCV(pca, para, cv=cv, n_jobs=-1, verbose=False).fit(XX, y)\n",
    "    #grid_search = HalvingGridSearchCV(model, parameters,cv=cv, scoring=scoring_method, n_jobs=-1, verbose=False, min_resources=\"exhaust\", factor=3).fit(XX, y) \n",
    "    best_model = grid_search1.best_estimator_\n",
    "    best_score = grid_search1.best_score_\n",
    "    best_params = grid_search1.best_params_\n",
    "    \n",
    "    print(\"- best_score =\", best_score)\n",
    "    #bperformance.append(best_score)\n",
    "    print(\"best paramters:\")\n",
    "    for k,v in best_params.items():\n",
    "         print(\"-\", k, v)  \n",
    "#pca = PCA(11)\n",
    "pca.fit(XX)\n",
    "print(pca.explained_variance_ratio_)"
   ]
  },
  {
   "cell_type": "code",
   "execution_count": 21,
   "metadata": {
    "collapsed": true
   },
   "outputs": [],
   "source": [
    "#predict based on the test dataset\n",
    "fm = DecisionTreeClassifier(max_depth=30, min_samples_leaf=32, random_state=random_state)\n",
    "#fm = models[\"DecisionTreeClassifier\"]\n",
    "fm.fit(XX, y_train)\n",
    "xt = scaler.transform(x_test)\n",
    "#xt = pca.transform(xt)\n",
    "re = fm.predict(xt)"
   ]
  },
  {
   "cell_type": "code",
   "execution_count": 23,
   "metadata": {
    "collapsed": true
   },
   "outputs": [],
   "source": [
    "# TODO\n",
    "group_number = 66 # TODO replace this with the number of your group on Brightspace\n",
    "predictions = re # TODO replace this with you own predictions\n",
    "\n",
    "pd.DataFrame(predictions).to_csv(f\"{group_number}_classes_problem_census.txt\", index=False, header=False)"
   ]
  },
  {
   "cell_type": "code",
   "execution_count": null,
   "metadata": {
    "collapsed": true
   },
   "outputs": [],
   "source": []
  }
 ],
 "metadata": {
  "kernelspec": {
   "display_name": "Python 3 [3.7]",
   "language": "python",
   "name": "python3"
  },
  "language_info": {
   "codemirror_mode": {
    "name": "ipython",
    "version": 3
   },
   "file_extension": ".py",
   "mimetype": "text/x-python",
   "name": "python",
   "nbconvert_exporter": "python",
   "pygments_lexer": "ipython3",
   "version": "3.7.5"
  },
  "vscode": {
   "interpreter": {
    "hash": "f940bd7320ed2ee42fbca6127eafd8950d5e01dc3337d1e259cede402f1d3537"
   }
  }
 },
 "nbformat": 4,
 "nbformat_minor": 4
}
