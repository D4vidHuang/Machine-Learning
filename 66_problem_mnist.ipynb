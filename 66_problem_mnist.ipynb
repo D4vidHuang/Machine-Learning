{
 "cells": [
  {
   "cell_type": "markdown",
   "metadata": {
    "pycharm": {
     "name": "#%% md\n"
    }
   },
   "source": [
    "# MNIST"
   ]
  },
  {
   "cell_type": "code",
   "execution_count": 2,
   "metadata": {
    "collapsed": true,
    "pycharm": {
     "name": "#%%\n"
    }
   },
   "outputs": [],
   "source": [
    "import numpy as np\n",
    "import pandas as pd\n",
    "import matplotlib.pyplot as plt\n",
    "\n",
    "from sklearn.tree import DecisionTreeClassifier\n",
    "from sklearn.dummy import DummyClassifier\n",
    "from sklearn.naive_bayes import GaussianNB\n",
    "from sklearn.neighbors import KNeighborsClassifier\n",
    "from sklearn.linear_model import LogisticRegression\n",
    "from sklearn.svm import SVC"
   ]
  },
  {
   "cell_type": "markdown",
   "metadata": {
    "pycharm": {
     "name": "#%% md\n"
    }
   },
   "source": [
    "## Load data"
   ]
  },
  {
   "cell_type": "markdown",
   "metadata": {},
   "source": []
  },
  {
   "cell_type": "code",
   "execution_count": 3,
   "metadata": {
    "collapsed": true,
    "pycharm": {
     "name": "#%%\n"
    }
   },
   "outputs": [],
   "source": [
    "mnist_28x28_train = np.load(\"MNIST/mnist_28x28_train.npy\")\n",
    "mnist_8x8_train = np.load(\"MNIST/mnist_8x8_train.npy\")\n",
    "train_labels = np.load(\"MNIST/train_labels.npy\")\n",
    "\n",
    "mnist_28x28_test = np.load(\"MNIST/mnist_28x28_test.npy\")\n",
    "mnist_8x8_test = np.load(\"MNIST/mnist_8x8_test.npy\")"
   ]
  },
  {
   "cell_type": "markdown",
   "metadata": {
    "pycharm": {
     "name": "#%% md\n"
    }
   },
   "source": [
    "###  Data exploration"
   ]
  },
  {
   "cell_type": "markdown",
   "metadata": {
    "pycharm": {
     "name": "#%% md\n"
    }
   },
   "source": [
    "#### Question 4.1.1"
   ]
  },
  {
   "cell_type": "code",
   "execution_count": 4,
   "metadata": {
    "pycharm": {
     "name": "#%%\n"
    }
   },
   "outputs": [
    {
     "name": "stdout",
     "output_type": "stream",
     "text": [
      "0    395\n",
      "4    388\n",
      "3    378\n",
      "9    377\n",
      "1    376\n",
      "6    371\n",
      "2    367\n",
      "7    366\n",
      "5    366\n",
      "8    366\n",
      "dtype: int64\n"
     ]
    }
   ],
   "source": [
    "# You can use plt.imshow to visualize the digits from the dataset\n",
    "index = 0\n",
    "'''\n",
    "#This is for printing all the pictures of these numbers.!!!LARGE FILE WARNING\n",
    "for pic in mnist_28x28_train:\n",
    "    plt.subplot(1,2,1)\n",
    "    plt.imshow(mnist_28x28_train[index])\n",
    "    plt.title(\"plot1\")\n",
    "    plt.subplot(1,2,2)\n",
    "    plt.imshow(mnist_8x8_train[index])\n",
    "    plt.title(\"plot2\")\n",
    "    index += 1\n",
    "    plt.show()\n",
    "'''\n",
    "#count the existance of each number \n",
    "import pandas as pd\n",
    "result = pd.value_counts(train_labels)\n",
    "print(result)"
   ]
  },
  {
   "cell_type": "markdown",
   "metadata": {
    "pycharm": {
     "name": "#%% md\n"
    }
   },
   "source": [
    "###  Data preparation"
   ]
  },
  {
   "cell_type": "code",
   "execution_count": 5,
   "metadata": {
    "collapsed": true,
    "pycharm": {
     "name": "#%%\n"
    }
   },
   "outputs": [],
   "source": [
    "#preprocessing the shape of the input data, 784 = 28 * 28\n",
    "train_data = mnist_28x28_train\n",
    "train_data = np.reshape(mnist_28x28_train, (3750, 784))\n",
    "train_data_8x8 = np.reshape(mnist_8x8_train, (3750, 64))\n",
    "test_data = np.reshape(mnist_28x28_test, (mnist_28x28_test.shape[0], 784))"
   ]
  },
  {
   "cell_type": "markdown",
   "metadata": {
    "pycharm": {
     "name": "#%% md\n"
    }
   },
   "source": [
    "### Experiments"
   ]
  },
  {
   "cell_type": "code",
   "execution_count": 6,
   "metadata": {
    "pycharm": {
     "name": "#%%\n"
    }
   },
   "outputs": [
    {
     "name": "stdout",
     "output_type": "stream",
     "text": [
      "[[  0   0   0   0   0   0   0   0   0   0   0   0   0   0   0   0   0   0\n",
      "    0   0   0   0   0   0   0   0   0   0]\n",
      " [  0   0   0   0   0   0   0   0   0   0   0   0   0   0   0   0   0   0\n",
      "    0   0   0   0   0   0   0   0   0   0]\n",
      " [  0   0   0   0   0   0   0   0   0   0   0   0   0   0   0   0   0   0\n",
      "    0   0   0   0   0   0   0   0   0   0]\n",
      " [  0   0   0   0   0   0   0   0   0   0   0   0   0   0   0   0   0   0\n",
      "    0   0   0   0   0   0   0   0   0   0]\n",
      " [  0   0   0   0   0   0   0   0   0   0   0   0   0   0   0   0   0   0\n",
      "    0   0   0   0   0   0   0   0   0   0]\n",
      " [  0   0   0   0   0   0   0   0   0   0   0   0   0   0   0   0   0   0\n",
      "   64 255 255  64   0   0   0   0   0   0]\n",
      " [  0   0   0   0   0   0   0   0   0   0   0   0   0   0   0   0   0   0\n",
      "  255 255 255  64   0   0   0   0   0   0]\n",
      " [  0   0   0   0   0   0   0   0   0   0   0   0   0   0   0   0   0 255\n",
      "  255 255 191   0   0   0   0   0   0   0]\n",
      " [  0   0   0   0   0   0   0   0   0   0   0   0   0   0   0   0   0 255\n",
      "  255 255  64   0   0   0   0   0   0   0]\n",
      " [  0   0   0   0   0   0   0   0   0   0   0   0   0   0   0  64 191 255\n",
      "  255 128   0   0   0   0   0   0   0   0]\n",
      " [  0   0   0   0   0   0   0   0   0   0   0   0   0   0   0 191 255 255\n",
      "  191  64   0   0   0   0   0   0   0   0]\n",
      " [  0   0   0   0   0   0   0   0   0   0   0   0   0   0   0 255 255 255\n",
      "  128   0   0   0   0   0   0   0   0   0]\n",
      " [  0   0   0   0   0   0   0   0   0   0   0   0   0   0 255 255 255 191\n",
      "    0   0   0   0   0   0   0   0   0   0]\n",
      " [  0   0   0   0   0   0   0   0   0   0   0   0   0 128 255 255 255   0\n",
      "    0   0   0   0   0   0   0   0   0   0]\n",
      " [  0   0   0   0   0   0   0   0   0   0   0   0   0 191 255 255 255   0\n",
      "    0   0   0   0   0   0   0   0   0   0]\n",
      " [  0   0   0   0   0   0   0   0   0   0   0   0 128 255 255 255 128   0\n",
      "    0   0   0   0   0   0   0   0   0   0]\n",
      " [  0   0   0   0   0   0   0   0   0   0   0   0 255 255 255 128   0   0\n",
      "    0   0   0   0   0   0   0   0   0   0]\n",
      " [  0   0   0   0   0   0   0   0   0   0   0 255 255 255 255 128   0   0\n",
      "    0   0   0   0   0   0   0   0   0   0]\n",
      " [  0   0   0   0   0   0   0   0   0   0   0 255 255 255 191   0   0   0\n",
      "    0   0   0   0   0   0   0   0   0   0]\n",
      " [  0   0   0   0   0   0   0   0   0  64 191 255 255 191   0   0   0   0\n",
      "    0   0   0   0   0   0   0   0   0   0]\n",
      " [  0   0   0   0   0   0   0   0   0 191 255 255 255 128   0   0   0   0\n",
      "    0   0   0   0   0   0   0   0   0   0]\n",
      " [  0   0   0   0   0   0   0   0   0 128 255 255 191   0   0   0   0   0\n",
      "    0   0   0   0   0   0   0   0   0   0]\n",
      " [  0   0   0   0   0   0   0   0  64 255 255 255  64   0   0   0   0   0\n",
      "    0   0   0   0   0   0   0   0   0   0]\n",
      " [  0   0   0   0   0   0   0   0  64 255 255 191   0   0   0   0   0   0\n",
      "    0   0   0   0   0   0   0   0   0   0]\n",
      " [  0   0   0   0   0   0   0   0   0 191 255  64   0   0   0   0   0   0\n",
      "    0   0   0   0   0   0   0   0   0   0]\n",
      " [  0   0   0   0   0   0   0   0   0   0   0   0   0   0   0   0   0   0\n",
      "    0   0   0   0   0   0   0   0   0   0]\n",
      " [  0   0   0   0   0   0   0   0   0   0   0   0   0   0   0   0   0   0\n",
      "    0   0   0   0   0   0   0   0   0   0]\n",
      " [  0   0   0   0   0   0   0   0   0   0   0   0   0   0   0   0   0   0\n",
      "    0   0   0   0   0   0   0   0   0   0]]\n"
     ]
    }
   ],
   "source": [
    "print(mnist_28x28_train[0])\n",
    "#print(mnist_8x8_train[0])\n",
    "#The numbers are represented in gray scale values."
   ]
  },
  {
   "cell_type": "code",
   "execution_count": 7,
   "metadata": {
    "collapsed": true,
    "pycharm": {
     "name": "#%%\n"
    }
   },
   "outputs": [],
   "source": [
    "#code for 4.3.1\n",
    "from sklearn.naive_bayes import GaussianNB\n",
    "from sklearn.svm import SVC\n",
    "from sklearn.neighbors import KNeighborsClassifier\n",
    "from sklearn.linear_model import SGDClassifier\n",
    "from sklearn.tree import DecisionTreeClassifier\n",
    "from sklearn.dummy import DummyClassifier\n",
    "from sklearn.model_selection import KFold\n",
    "from sklearn.model_selection import cross_validate\n",
    "from sklearn.metrics import make_scorer\n",
    "import numpy as np\n",
    "from sklearn.metrics import f1_score, accuracy_score\n",
    "random_state = 42\n",
    "\n",
    "#set hyper-parameters\n",
    "models = {\n",
    "    \"GaussianNB\": GaussianNB(),\n",
    "    \"DecisionTreeClassifier\": DecisionTreeClassifier(max_depth=None, min_samples_leaf=2, random_state=random_state),\n",
    "    \"KNeighborsClassifier\": KNeighborsClassifier(n_neighbors=3, weights=\"distance\"),\n",
    "    \"SVM\": SVC(C = 10, kernel = 'poly', degree = 3, gamma = 'scale',random_state = 42),\n",
    "    \"SGDClassifier\": SGDClassifier(loss='log', alpha=10, learning_rate = 'constant', eta0=0.1, penalty = 'none', random_state=42)\n",
    "}\n",
    "\n",
    "#The method for using k-fold validation\n",
    "def k_fold_fit_and_evaluate(X, y, model, scoring_method, n_splits=5):\n",
    "    cv = KFold(n_splits=n_splits, random_state=42, shuffle=True)\n",
    "    scores = cross_validate(model, X, y, scoring=scoring_method, cv=cv, n_jobs=-1)\n",
    "    return scores[\"test_score\"]\n",
    "\n",
    "#The scorer method to be use, which is the accuracy_score\n",
    "scoring_method = make_scorer(lambda prediction, true_target: accuracy_score(true_target, prediction))"
   ]
  },
  {
   "cell_type": "code",
   "execution_count": 8,
   "metadata": {
    "pycharm": {
     "name": "#%%\n"
    }
   },
   "outputs": [
    {
     "name": "stdout",
     "output_type": "stream",
     "text": [
      "(3750, 28, 28)\n",
      "(3750, 64)\n"
     ]
    }
   ],
   "source": [
    "print(mnist_28x28_train.shape)\n",
    "print(train_data_8x8.shape)"
   ]
  },
  {
   "cell_type": "code",
   "execution_count": 9,
   "metadata": {
    "pycharm": {
     "name": "#%%\n"
    }
   },
   "outputs": [
    {
     "ename": "KeyboardInterrupt",
     "evalue": "",
     "output_type": "error",
     "traceback": [
      "\u001b[1;31m---------------------------------------------------------------------------\u001b[0m",
      "\u001b[1;31mKeyboardInterrupt\u001b[0m                         Traceback (most recent call last)",
      "\u001b[1;32mx:\\TU Delft\\Y2Q1-Machine Learning\\Bonus\\GROUP_problem_mnist(1).ipynb Cell 15\u001b[0m in \u001b[0;36m<cell line: 5>\u001b[1;34m()\u001b[0m\n\u001b[0;32m      <a href='vscode-notebook-cell:/x%3A/TU%20Delft/Y2Q1-Machine%20Learning/Bonus/GROUP_problem_mnist%281%29.ipynb#X20sZmlsZQ%3D%3D?line=5'>6</a>\u001b[0m     metrics_acc \u001b[39m=\u001b[39m k_fold_fit_and_evaluate(train_data_8x8, train_labels, model, scoring_method, n_splits \u001b[39m=\u001b[39m \u001b[39m5\u001b[39m)\n\u001b[0;32m      <a href='vscode-notebook-cell:/x%3A/TU%20Delft/Y2Q1-Machine%20Learning/Bonus/GROUP_problem_mnist%281%29.ipynb#X20sZmlsZQ%3D%3D?line=6'>7</a>\u001b[0m     metrics\u001b[39m.\u001b[39mappend(metrics_acc)\n\u001b[1;32m----> <a href='vscode-notebook-cell:/x%3A/TU%20Delft/Y2Q1-Machine%20Learning/Bonus/GROUP_problem_mnist%281%29.ipynb#X20sZmlsZQ%3D%3D?line=7'>8</a>\u001b[0m     plt\u001b[39m.\u001b[39;49mplot(metrics_acc, label \u001b[39m=\u001b[39;49m name)\n\u001b[0;32m      <a href='vscode-notebook-cell:/x%3A/TU%20Delft/Y2Q1-Machine%20Learning/Bonus/GROUP_problem_mnist%281%29.ipynb#X20sZmlsZQ%3D%3D?line=8'>9</a>\u001b[0m     plt\u001b[39m.\u001b[39mlegend()\n\u001b[0;32m     <a href='vscode-notebook-cell:/x%3A/TU%20Delft/Y2Q1-Machine%20Learning/Bonus/GROUP_problem_mnist%281%29.ipynb#X20sZmlsZQ%3D%3D?line=9'>10</a>\u001b[0m \u001b[39mprint\u001b[39m(\u001b[39m\"\u001b[39m\u001b[39mmean         \u001b[39m\u001b[39m\"\u001b[39m, \u001b[39m\"\u001b[39m\u001b[39m           std\u001b[39m\u001b[39m\"\u001b[39m)\n",
      "File \u001b[1;32mc:\\Users\\DavidHuang\\anaconda3\\lib\\site-packages\\matplotlib\\pyplot.py:2757\u001b[0m, in \u001b[0;36mplot\u001b[1;34m(scalex, scaley, data, *args, **kwargs)\u001b[0m\n\u001b[0;32m   2755\u001b[0m \u001b[39m@_copy_docstring_and_deprecators\u001b[39m(Axes\u001b[39m.\u001b[39mplot)\n\u001b[0;32m   2756\u001b[0m \u001b[39mdef\u001b[39;00m \u001b[39mplot\u001b[39m(\u001b[39m*\u001b[39margs, scalex\u001b[39m=\u001b[39m\u001b[39mTrue\u001b[39;00m, scaley\u001b[39m=\u001b[39m\u001b[39mTrue\u001b[39;00m, data\u001b[39m=\u001b[39m\u001b[39mNone\u001b[39;00m, \u001b[39m*\u001b[39m\u001b[39m*\u001b[39mkwargs):\n\u001b[1;32m-> 2757\u001b[0m     \u001b[39mreturn\u001b[39;00m gca()\u001b[39m.\u001b[39mplot(\n\u001b[0;32m   2758\u001b[0m         \u001b[39m*\u001b[39margs, scalex\u001b[39m=\u001b[39mscalex, scaley\u001b[39m=\u001b[39mscaley,\n\u001b[0;32m   2759\u001b[0m         \u001b[39m*\u001b[39m\u001b[39m*\u001b[39m({\u001b[39m\"\u001b[39m\u001b[39mdata\u001b[39m\u001b[39m\"\u001b[39m: data} \u001b[39mif\u001b[39;00m data \u001b[39mis\u001b[39;00m \u001b[39mnot\u001b[39;00m \u001b[39mNone\u001b[39;00m \u001b[39melse\u001b[39;00m {}), \u001b[39m*\u001b[39m\u001b[39m*\u001b[39mkwargs)\n",
      "File \u001b[1;32mc:\\Users\\DavidHuang\\anaconda3\\lib\\site-packages\\matplotlib\\pyplot.py:2262\u001b[0m, in \u001b[0;36mgca\u001b[1;34m(**kwargs)\u001b[0m\n\u001b[0;32m   2260\u001b[0m \u001b[39m@_copy_docstring_and_deprecators\u001b[39m(Figure\u001b[39m.\u001b[39mgca)\n\u001b[0;32m   2261\u001b[0m \u001b[39mdef\u001b[39;00m \u001b[39mgca\u001b[39m(\u001b[39m*\u001b[39m\u001b[39m*\u001b[39mkwargs):\n\u001b[1;32m-> 2262\u001b[0m     \u001b[39mreturn\u001b[39;00m gcf()\u001b[39m.\u001b[39mgca(\u001b[39m*\u001b[39m\u001b[39m*\u001b[39mkwargs)\n",
      "File \u001b[1;32mc:\\Users\\DavidHuang\\anaconda3\\lib\\site-packages\\matplotlib\\figure.py:1515\u001b[0m, in \u001b[0;36mFigureBase.gca\u001b[1;34m(self, **kwargs)\u001b[0m\n\u001b[0;32m   1505\u001b[0m     _api\u001b[39m.\u001b[39mwarn_deprecated(\n\u001b[0;32m   1506\u001b[0m         \u001b[39m\"\u001b[39m\u001b[39m3.4\u001b[39m\u001b[39m\"\u001b[39m,\n\u001b[0;32m   1507\u001b[0m         message\u001b[39m=\u001b[39m\u001b[39m\"\u001b[39m\u001b[39mCalling gca() with keyword arguments was deprecated \u001b[39m\u001b[39m\"\u001b[39m\n\u001b[1;32m   (...)\u001b[0m\n\u001b[0;32m   1512\u001b[0m         \u001b[39m\"\u001b[39m\u001b[39maxes with non-default arguments, use plt.axes() or \u001b[39m\u001b[39m\"\u001b[39m\n\u001b[0;32m   1513\u001b[0m         \u001b[39m\"\u001b[39m\u001b[39mplt.subplot().\u001b[39m\u001b[39m\"\u001b[39m)\n\u001b[0;32m   1514\u001b[0m \u001b[39mif\u001b[39;00m \u001b[39mself\u001b[39m\u001b[39m.\u001b[39m_axstack\u001b[39m.\u001b[39mempty():\n\u001b[1;32m-> 1515\u001b[0m     \u001b[39mreturn\u001b[39;00m \u001b[39mself\u001b[39m\u001b[39m.\u001b[39madd_subplot(\u001b[39m1\u001b[39m, \u001b[39m1\u001b[39m, \u001b[39m1\u001b[39m, \u001b[39m*\u001b[39m\u001b[39m*\u001b[39mkwargs)\n\u001b[0;32m   1516\u001b[0m \u001b[39melse\u001b[39;00m:\n\u001b[0;32m   1517\u001b[0m     \u001b[39mreturn\u001b[39;00m \u001b[39mself\u001b[39m\u001b[39m.\u001b[39m_axstack()\n",
      "File \u001b[1;32mc:\\Users\\DavidHuang\\anaconda3\\lib\\site-packages\\matplotlib\\figure.py:772\u001b[0m, in \u001b[0;36mFigureBase.add_subplot\u001b[1;34m(self, *args, **kwargs)\u001b[0m\n\u001b[0;32m    769\u001b[0m         args \u001b[39m=\u001b[39m \u001b[39mtuple\u001b[39m(\u001b[39mmap\u001b[39m(\u001b[39mint\u001b[39m, \u001b[39mstr\u001b[39m(args[\u001b[39m0\u001b[39m])))\n\u001b[0;32m    770\u001b[0m     projection_class, pkw \u001b[39m=\u001b[39m \u001b[39mself\u001b[39m\u001b[39m.\u001b[39m_process_projection_requirements(\n\u001b[0;32m    771\u001b[0m         \u001b[39m*\u001b[39margs, \u001b[39m*\u001b[39m\u001b[39m*\u001b[39mkwargs)\n\u001b[1;32m--> 772\u001b[0m     ax \u001b[39m=\u001b[39m subplot_class_factory(projection_class)(\u001b[39mself\u001b[39m, \u001b[39m*\u001b[39margs, \u001b[39m*\u001b[39m\u001b[39m*\u001b[39mpkw)\n\u001b[0;32m    773\u001b[0m     key \u001b[39m=\u001b[39m (projection_class, pkw)\n\u001b[0;32m    774\u001b[0m \u001b[39mreturn\u001b[39;00m \u001b[39mself\u001b[39m\u001b[39m.\u001b[39m_add_axes_internal(ax, key)\n",
      "File \u001b[1;32mc:\\Users\\DavidHuang\\anaconda3\\lib\\site-packages\\matplotlib\\axes\\_subplots.py:34\u001b[0m, in \u001b[0;36mSubplotBase.__init__\u001b[1;34m(self, fig, *args, **kwargs)\u001b[0m\n\u001b[0;32m     15\u001b[0m \u001b[39m\"\"\"\u001b[39;00m\n\u001b[0;32m     16\u001b[0m \u001b[39mParameters\u001b[39;00m\n\u001b[0;32m     17\u001b[0m \u001b[39m----------\u001b[39;00m\n\u001b[1;32m   (...)\u001b[0m\n\u001b[0;32m     31\u001b[0m \u001b[39m    Keyword arguments are passed to the Axes (sub)class constructor.\u001b[39;00m\n\u001b[0;32m     32\u001b[0m \u001b[39m\"\"\"\u001b[39;00m\n\u001b[0;32m     33\u001b[0m \u001b[39m# _axes_class is set in the subplot_class_factory\u001b[39;00m\n\u001b[1;32m---> 34\u001b[0m \u001b[39mself\u001b[39m\u001b[39m.\u001b[39m_axes_class\u001b[39m.\u001b[39m\u001b[39m__init__\u001b[39m(\u001b[39mself\u001b[39m, fig, [\u001b[39m0\u001b[39m, \u001b[39m0\u001b[39m, \u001b[39m1\u001b[39m, \u001b[39m1\u001b[39m], \u001b[39m*\u001b[39m\u001b[39m*\u001b[39mkwargs)\n\u001b[0;32m     35\u001b[0m \u001b[39m# This will also update the axes position.\u001b[39;00m\n\u001b[0;32m     36\u001b[0m \u001b[39mself\u001b[39m\u001b[39m.\u001b[39mset_subplotspec(SubplotSpec\u001b[39m.\u001b[39m_from_subplot_args(fig, args))\n",
      "File \u001b[1;32mc:\\Users\\DavidHuang\\anaconda3\\lib\\site-packages\\matplotlib\\_api\\deprecation.py:456\u001b[0m, in \u001b[0;36mmake_keyword_only.<locals>.wrapper\u001b[1;34m(*args, **kwargs)\u001b[0m\n\u001b[0;32m    450\u001b[0m \u001b[39mif\u001b[39;00m \u001b[39mlen\u001b[39m(args) \u001b[39m>\u001b[39m name_idx:\n\u001b[0;32m    451\u001b[0m     warn_deprecated(\n\u001b[0;32m    452\u001b[0m         since, message\u001b[39m=\u001b[39m\u001b[39m\"\u001b[39m\u001b[39mPassing the \u001b[39m\u001b[39m%(name)s\u001b[39;00m\u001b[39m \u001b[39m\u001b[39m%(obj_type)s\u001b[39;00m\u001b[39m \u001b[39m\u001b[39m\"\u001b[39m\n\u001b[0;32m    453\u001b[0m         \u001b[39m\"\u001b[39m\u001b[39mpositionally is deprecated since Matplotlib \u001b[39m\u001b[39m%(since)s\u001b[39;00m\u001b[39m; the \u001b[39m\u001b[39m\"\u001b[39m\n\u001b[0;32m    454\u001b[0m         \u001b[39m\"\u001b[39m\u001b[39mparameter will become keyword-only \u001b[39m\u001b[39m%(removal)s\u001b[39;00m\u001b[39m.\u001b[39m\u001b[39m\"\u001b[39m,\n\u001b[0;32m    455\u001b[0m         name\u001b[39m=\u001b[39mname, obj_type\u001b[39m=\u001b[39m\u001b[39mf\u001b[39m\u001b[39m\"\u001b[39m\u001b[39mparameter of \u001b[39m\u001b[39m{\u001b[39;00mfunc\u001b[39m.\u001b[39m\u001b[39m__name__\u001b[39m\u001b[39m}\u001b[39;00m\u001b[39m()\u001b[39m\u001b[39m\"\u001b[39m)\n\u001b[1;32m--> 456\u001b[0m \u001b[39mreturn\u001b[39;00m func(\u001b[39m*\u001b[39margs, \u001b[39m*\u001b[39m\u001b[39m*\u001b[39mkwargs)\n",
      "File \u001b[1;32mc:\\Users\\DavidHuang\\anaconda3\\lib\\site-packages\\matplotlib\\axes\\_base.py:632\u001b[0m, in \u001b[0;36m_AxesBase.__init__\u001b[1;34m(self, fig, rect, facecolor, frameon, sharex, sharey, label, xscale, yscale, box_aspect, **kwargs)\u001b[0m\n\u001b[0;32m    629\u001b[0m \u001b[39mself\u001b[39m\u001b[39m.\u001b[39mset_axisbelow(mpl\u001b[39m.\u001b[39mrcParams[\u001b[39m'\u001b[39m\u001b[39maxes.axisbelow\u001b[39m\u001b[39m'\u001b[39m])\n\u001b[0;32m    631\u001b[0m \u001b[39mself\u001b[39m\u001b[39m.\u001b[39m_rasterization_zorder \u001b[39m=\u001b[39m \u001b[39mNone\u001b[39;00m\n\u001b[1;32m--> 632\u001b[0m \u001b[39mself\u001b[39;49m\u001b[39m.\u001b[39;49mcla()\n\u001b[0;32m    634\u001b[0m \u001b[39m# funcs used to format x and y - fall back on major formatters\u001b[39;00m\n\u001b[0;32m    635\u001b[0m \u001b[39mself\u001b[39m\u001b[39m.\u001b[39mfmt_xdata \u001b[39m=\u001b[39m \u001b[39mNone\u001b[39;00m\n",
      "File \u001b[1;32mc:\\Users\\DavidHuang\\anaconda3\\lib\\site-packages\\matplotlib\\axes\\_base.py:1300\u001b[0m, in \u001b[0;36m_AxesBase.cla\u001b[1;34m(self)\u001b[0m\n\u001b[0;32m   1296\u001b[0m \u001b[39mself\u001b[39m\u001b[39m.\u001b[39mpatch\u001b[39m.\u001b[39mset_transform(\u001b[39mself\u001b[39m\u001b[39m.\u001b[39mtransAxes)\n\u001b[0;32m   1298\u001b[0m \u001b[39mself\u001b[39m\u001b[39m.\u001b[39mset_axis_on()\n\u001b[1;32m-> 1300\u001b[0m \u001b[39mself\u001b[39;49m\u001b[39m.\u001b[39;49mxaxis\u001b[39m.\u001b[39;49mset_clip_path(\u001b[39mself\u001b[39;49m\u001b[39m.\u001b[39;49mpatch)\n\u001b[0;32m   1301\u001b[0m \u001b[39mself\u001b[39m\u001b[39m.\u001b[39myaxis\u001b[39m.\u001b[39mset_clip_path(\u001b[39mself\u001b[39m\u001b[39m.\u001b[39mpatch)\n\u001b[0;32m   1303\u001b[0m \u001b[39mself\u001b[39m\u001b[39m.\u001b[39m_shared_axes[\u001b[39m\"\u001b[39m\u001b[39mx\u001b[39m\u001b[39m\"\u001b[39m]\u001b[39m.\u001b[39mclean()\n",
      "File \u001b[1;32mc:\\Users\\DavidHuang\\anaconda3\\lib\\site-packages\\matplotlib\\axis.py:935\u001b[0m, in \u001b[0;36mAxis.set_clip_path\u001b[1;34m(self, clippath, transform)\u001b[0m\n\u001b[0;32m    934\u001b[0m \u001b[39mdef\u001b[39;00m \u001b[39mset_clip_path\u001b[39m(\u001b[39mself\u001b[39m, clippath, transform\u001b[39m=\u001b[39m\u001b[39mNone\u001b[39;00m):\n\u001b[1;32m--> 935\u001b[0m     \u001b[39msuper\u001b[39;49m()\u001b[39m.\u001b[39;49mset_clip_path(clippath, transform)\n\u001b[0;32m    936\u001b[0m     \u001b[39mfor\u001b[39;00m child \u001b[39min\u001b[39;00m \u001b[39mself\u001b[39m\u001b[39m.\u001b[39mmajorTicks \u001b[39m+\u001b[39m \u001b[39mself\u001b[39m\u001b[39m.\u001b[39mminorTicks:\n\u001b[0;32m    937\u001b[0m         child\u001b[39m.\u001b[39mset_clip_path(clippath, transform)\n",
      "File \u001b[1;32mc:\\Users\\DavidHuang\\anaconda3\\lib\\site-packages\\matplotlib\\artist.py:790\u001b[0m, in \u001b[0;36mArtist.set_clip_path\u001b[1;34m(self, path, transform)\u001b[0m\n\u001b[0;32m    787\u001b[0m \u001b[39mif\u001b[39;00m transform \u001b[39mis\u001b[39;00m \u001b[39mNone\u001b[39;00m:\n\u001b[0;32m    788\u001b[0m     \u001b[39mif\u001b[39;00m \u001b[39misinstance\u001b[39m(path, Rectangle):\n\u001b[0;32m    789\u001b[0m         \u001b[39mself\u001b[39m\u001b[39m.\u001b[39mclipbox \u001b[39m=\u001b[39m TransformedBbox(Bbox\u001b[39m.\u001b[39munit(),\n\u001b[1;32m--> 790\u001b[0m                                        path\u001b[39m.\u001b[39;49mget_transform())\n\u001b[0;32m    791\u001b[0m         \u001b[39mself\u001b[39m\u001b[39m.\u001b[39m_clippath \u001b[39m=\u001b[39m \u001b[39mNone\u001b[39;00m\n\u001b[0;32m    792\u001b[0m         success \u001b[39m=\u001b[39m \u001b[39mTrue\u001b[39;00m\n",
      "File \u001b[1;32mc:\\Users\\DavidHuang\\anaconda3\\lib\\site-packages\\matplotlib\\patches.py:278\u001b[0m, in \u001b[0;36mPatch.get_transform\u001b[1;34m(self)\u001b[0m\n\u001b[0;32m    276\u001b[0m \u001b[39mdef\u001b[39;00m \u001b[39mget_transform\u001b[39m(\u001b[39mself\u001b[39m):\n\u001b[0;32m    277\u001b[0m     \u001b[39m\"\"\"Return the `~.transforms.Transform` applied to the `Patch`.\"\"\"\u001b[39;00m\n\u001b[1;32m--> 278\u001b[0m     \u001b[39mreturn\u001b[39;00m \u001b[39mself\u001b[39;49m\u001b[39m.\u001b[39;49mget_patch_transform() \u001b[39m+\u001b[39m artist\u001b[39m.\u001b[39mArtist\u001b[39m.\u001b[39mget_transform(\u001b[39mself\u001b[39m)\n",
      "File \u001b[1;32mc:\\Users\\DavidHuang\\anaconda3\\lib\\site-packages\\matplotlib\\patches.py:754\u001b[0m, in \u001b[0;36mRectangle.get_patch_transform\u001b[1;34m(self)\u001b[0m\n\u001b[0;32m    747\u001b[0m \u001b[39mdef\u001b[39;00m \u001b[39mget_patch_transform\u001b[39m(\u001b[39mself\u001b[39m):\n\u001b[0;32m    748\u001b[0m     \u001b[39m# Note: This cannot be called until after this has been added to\u001b[39;00m\n\u001b[0;32m    749\u001b[0m     \u001b[39m# an Axes, otherwise unit conversion will fail. This makes it very\u001b[39;00m\n\u001b[0;32m    750\u001b[0m     \u001b[39m# important to call the accessor method and not directly access the\u001b[39;00m\n\u001b[0;32m    751\u001b[0m     \u001b[39m# transformation member variable.\u001b[39;00m\n\u001b[0;32m    752\u001b[0m     bbox \u001b[39m=\u001b[39m \u001b[39mself\u001b[39m\u001b[39m.\u001b[39mget_bbox()\n\u001b[0;32m    753\u001b[0m     \u001b[39mreturn\u001b[39;00m (transforms\u001b[39m.\u001b[39mBboxTransformTo(bbox)\n\u001b[1;32m--> 754\u001b[0m             \u001b[39m+\u001b[39m transforms\u001b[39m.\u001b[39;49mAffine2D()\u001b[39m.\u001b[39;49mrotate_deg_around(\n\u001b[0;32m    755\u001b[0m                 bbox\u001b[39m.\u001b[39;49mx0, bbox\u001b[39m.\u001b[39;49my0, \u001b[39mself\u001b[39;49m\u001b[39m.\u001b[39;49mangle))\n",
      "File \u001b[1;32mc:\\Users\\DavidHuang\\anaconda3\\lib\\site-packages\\matplotlib\\transforms.py:2042\u001b[0m, in \u001b[0;36mAffine2D.rotate_deg_around\u001b[1;34m(self, x, y, degrees)\u001b[0m\n\u001b[0;32m   2040\u001b[0m \u001b[39m# Cast to float to avoid wraparound issues with uint8's\u001b[39;00m\n\u001b[0;32m   2041\u001b[0m x, y \u001b[39m=\u001b[39m \u001b[39mfloat\u001b[39m(x), \u001b[39mfloat\u001b[39m(y)\n\u001b[1;32m-> 2042\u001b[0m \u001b[39mreturn\u001b[39;00m \u001b[39mself\u001b[39;49m\u001b[39m.\u001b[39;49mtranslate(\u001b[39m-\u001b[39;49mx, \u001b[39m-\u001b[39;49my)\u001b[39m.\u001b[39;49mrotate_deg(degrees)\u001b[39m.\u001b[39mtranslate(x, y)\n",
      "File \u001b[1;32mc:\\Users\\DavidHuang\\anaconda3\\lib\\site-packages\\matplotlib\\transforms.py:2020\u001b[0m, in \u001b[0;36mAffine2D.rotate_deg\u001b[1;34m(self, degrees)\u001b[0m\n\u001b[0;32m   2012\u001b[0m \u001b[39mdef\u001b[39;00m \u001b[39mrotate_deg\u001b[39m(\u001b[39mself\u001b[39m, degrees):\n\u001b[0;32m   2013\u001b[0m     \u001b[39m\"\"\"\u001b[39;00m\n\u001b[0;32m   2014\u001b[0m \u001b[39m    Add a rotation (in degrees) to this transform in place.\u001b[39;00m\n\u001b[0;32m   2015\u001b[0m \n\u001b[1;32m   (...)\u001b[0m\n\u001b[0;32m   2018\u001b[0m \u001b[39m    and :meth:`scale`.\u001b[39;00m\n\u001b[0;32m   2019\u001b[0m \u001b[39m    \"\"\"\u001b[39;00m\n\u001b[1;32m-> 2020\u001b[0m     \u001b[39mreturn\u001b[39;00m \u001b[39mself\u001b[39;49m\u001b[39m.\u001b[39;49mrotate(math\u001b[39m.\u001b[39;49mradians(degrees))\n",
      "File \u001b[1;32mc:\\Users\\DavidHuang\\anaconda3\\lib\\site-packages\\matplotlib\\transforms.py:2008\u001b[0m, in \u001b[0;36mAffine2D.rotate\u001b[1;34m(self, theta)\u001b[0m\n\u001b[0;32m   2005\u001b[0m b \u001b[39m=\u001b[39m math\u001b[39m.\u001b[39msin(theta)\n\u001b[0;32m   2006\u001b[0m rotate_mtx \u001b[39m=\u001b[39m np\u001b[39m.\u001b[39marray([[a, \u001b[39m-\u001b[39mb, \u001b[39m0.0\u001b[39m], [b, a, \u001b[39m0.0\u001b[39m], [\u001b[39m0.0\u001b[39m, \u001b[39m0.0\u001b[39m, \u001b[39m1.0\u001b[39m]],\n\u001b[0;32m   2007\u001b[0m                       \u001b[39mfloat\u001b[39m)\n\u001b[1;32m-> 2008\u001b[0m \u001b[39mself\u001b[39m\u001b[39m.\u001b[39m_mtx \u001b[39m=\u001b[39m np\u001b[39m.\u001b[39;49mdot(rotate_mtx, \u001b[39mself\u001b[39;49m\u001b[39m.\u001b[39;49m_mtx)\n\u001b[0;32m   2009\u001b[0m \u001b[39mself\u001b[39m\u001b[39m.\u001b[39minvalidate()\n\u001b[0;32m   2010\u001b[0m \u001b[39mreturn\u001b[39;00m \u001b[39mself\u001b[39m\n",
      "File \u001b[1;32m<__array_function__ internals>:5\u001b[0m, in \u001b[0;36mdot\u001b[1;34m(*args, **kwargs)\u001b[0m\n",
      "\u001b[1;31mKeyboardInterrupt\u001b[0m: "
     ]
    },
    {
     "data": {
      "text/plain": [
       "<Figure size 432x288 with 0 Axes>"
      ]
     },
     "metadata": {},
     "output_type": "display_data"
    }
   ],
   "source": [
    "#code for 4.3.2\n",
    "for name, model in models.items():\n",
    "    model.fit(train_data_8x8, train_labels)\n",
    "metrics = []\n",
    "for name, model in models.items():\n",
    "    metrics_acc = k_fold_fit_and_evaluate(train_data_8x8, train_labels, model, scoring_method, n_splits = 5)\n",
    "    metrics.append(metrics_acc)\n",
    "    plt.plot(metrics_acc, label = name)\n",
    "    plt.legend()\n",
    "print(\"mean         \", \"           std\")\n",
    "for temp in metrics:\n",
    "    print(np.mean(temp), np.std(temp))"
   ]
  },
  {
   "cell_type": "code",
   "execution_count": 9,
   "metadata": {
    "collapsed": true,
    "pycharm": {
     "name": "#%%\n"
    }
   },
   "outputs": [],
   "source": [
    "#code for 4.3.3\n",
    "#No code for this question"
   ]
  },
  {
   "cell_type": "code",
   "execution_count": 16,
   "metadata": {
    "pycharm": {
     "name": "#%%\n"
    }
   },
   "outputs": [
    {
     "name": "stdout",
     "output_type": "stream",
     "text": [
      "SGDClassifier\n",
      "- best_score = 0.7994666666666667\n",
      "best paramters:\n",
      "- alpha 0.1\n",
      "- eta0 0.2\n",
      "- learning_rate constant\n",
      "- loss log\n",
      "- penalty none\n"
     ]
    },
    {
     "name": "stderr",
     "output_type": "stream",
     "text": [
      "C:\\Users\\DavidHuang\\anaconda3\\lib\\site-packages\\sklearn\\model_selection\\_validation.py:372: FitFailedWarning: \n",
      "135 fits failed out of a total of 1350.\n",
      "The score on these train-test partitions for these parameters will be set to nan.\n",
      "If these failures are not expected, you can try to debug them by setting error_score='raise'.\n",
      "\n",
      "Below are more details about the failures:\n",
      "--------------------------------------------------------------------------------\n",
      "135 fits failed with the following error:\n",
      "Traceback (most recent call last):\n",
      "  File \"C:\\Users\\DavidHuang\\anaconda3\\lib\\site-packages\\sklearn\\model_selection\\_validation.py\", line 680, in _fit_and_score\n",
      "    estimator.fit(X_train, y_train, **fit_params)\n",
      "  File \"C:\\Users\\DavidHuang\\anaconda3\\lib\\site-packages\\sklearn\\linear_model\\_stochastic_gradient.py\", line 883, in fit\n",
      "    return self._fit(\n",
      "  File \"C:\\Users\\DavidHuang\\anaconda3\\lib\\site-packages\\sklearn\\linear_model\\_stochastic_gradient.py\", line 649, in _fit\n",
      "    self._validate_params()\n",
      "  File \"C:\\Users\\DavidHuang\\anaconda3\\lib\\site-packages\\sklearn\\linear_model\\_stochastic_gradient.py\", line 149, in _validate_params\n",
      "    raise ValueError(\"eta0 must be > 0\")\n",
      "ValueError: eta0 must be > 0\n",
      "\n",
      "  warnings.warn(some_fits_failed_message, FitFailedWarning)\n",
      "C:\\Users\\DavidHuang\\anaconda3\\lib\\site-packages\\sklearn\\model_selection\\_search.py:969: UserWarning: One or more of the test scores are non-finite: [       nan        nan        nan 0.79253333 0.49733333 0.66666667\n",
      " 0.79946667 0.252      0.74826667 0.78266667 0.2856     0.73813333\n",
      " 0.7744     0.28506667 0.7656     0.7904     0.23466667 0.70826667\n",
      " 0.78506667 0.25653333 0.7096     0.79626667 0.18693333 0.7344\n",
      " 0.78826667 0.2768     0.708      0.79573333 0.23946667 0.72586667\n",
      "        nan        nan        nan 0.79253333 0.31573333 0.7136\n",
      " 0.79946667 0.27013333 0.6752     0.78266667 0.25893333 0.69306667\n",
      " 0.7744     0.2616     0.69493333 0.7904     0.25093333 0.69253333\n",
      " 0.78506667 0.1952     0.70293333 0.79626667 0.21626667 0.64746667\n",
      " 0.78826667 0.18453333 0.66533333 0.79573333 0.1224     0.664\n",
      "        nan        nan        nan 0.79253333 0.288      0.6928\n",
      " 0.79946667 0.25893333 0.62746667 0.78266667 0.26533333 0.65013333\n",
      " 0.7744     0.19653333 0.66986667 0.7904     0.1872     0.66746667\n",
      " 0.78506667 0.12186667 0.62693333 0.79626667 0.11066667 0.65333333\n",
      " 0.78826667 0.16826667 0.6728     0.79573333 0.14346667 0.65253333\n",
      "        nan        nan        nan 0.79253333 0.23653333 0.59573333\n",
      " 0.79946667 0.23146667 0.63706667 0.78266667 0.21493333 0.66826667\n",
      " 0.7744     0.1784     0.62373333 0.7904     0.208      0.64506667\n",
      " 0.78506667 0.16826667 0.55253333 0.79626667 0.13493333 0.6312\n",
      " 0.78826667 0.11893333 0.5984     0.79573333 0.1648     0.5344\n",
      "        nan        nan        nan 0.79253333 0.25386667 0.6352\n",
      " 0.79946667 0.24133333 0.63466667 0.78266667 0.19493333 0.56266667\n",
      " 0.7744     0.20826667 0.5688     0.7904     0.12746667 0.63626667\n",
      " 0.78506667 0.10826667 0.5832     0.79626667 0.1496     0.60426667\n",
      " 0.78826667 0.10426667 0.69146667 0.79573333 0.09866667 0.65253333\n",
      "        nan        nan        nan 0.79253333 0.2752     0.6264\n",
      " 0.79946667 0.1976     0.5184     0.78266667 0.12026667 0.5752\n",
      " 0.7744     0.16826667 0.59493333 0.7904     0.11013333 0.54\n",
      " 0.78506667 0.1648     0.556      0.79626667 0.1176     0.5512\n",
      " 0.78826667 0.09333333 0.49146667 0.79573333 0.1128     0.61946667\n",
      "        nan        nan        nan 0.79253333 0.18293333 0.51493333\n",
      " 0.79946667 0.21626667 0.59333333 0.78266667 0.14933333 0.60773333\n",
      " 0.7744     0.13493333 0.5984     0.7904     0.15146667 0.54346667\n",
      " 0.78506667 0.1176     0.59866667 0.79626667 0.1096     0.592\n",
      " 0.78826667 0.09413333 0.54186667 0.79573333 0.10346667 0.5224\n",
      "        nan        nan        nan 0.79253333 0.21493333 0.49253333\n",
      " 0.79946667 0.1784     0.52586667 0.78266667 0.16826667 0.56746667\n",
      " 0.7744     0.124      0.4616     0.7904     0.10426667 0.56533333\n",
      " 0.78506667 0.09333333 0.5224     0.79626667 0.09413333 0.5488\n",
      " 0.78826667 0.1032     0.5776     0.79573333 0.10346667 0.50746667\n",
      "        nan        nan        nan 0.79253333 0.2152     0.5024\n",
      " 0.79946667 0.12       0.4744     0.78266667 0.14373333 0.3616\n",
      " 0.7744     0.1648     0.45813333 0.7904     0.09866667 0.5072\n",
      " 0.78506667 0.09386667 0.49546667 0.79626667 0.10346667 0.43813333\n",
      " 0.78826667 0.1048     0.50106667 0.79573333 0.09173333 0.51386667]\n",
      "  warnings.warn(\n"
     ]
    }
   ],
   "source": [
    "#code for 4.3.4\n",
    "from sklearn.model_selection import GridSearchCV\n",
    "\n",
    "random_state = 42\n",
    "n_splits = 5\n",
    "scoring_method = make_scorer(lambda true_target, prediction: accuracy_score(true_target, prediction))\n",
    "\n",
    "model_parameters = {\n",
    "    \"SGDClassifier\": {\n",
    "        'loss':[\"log\"],\n",
    "        'alpha':[0.1, 0.2, 0.3, 0.4, 0.5 ,0.6 ,0.7 ,0.8, 0.9],\n",
    "        'learning_rate':[\"constant\"],\n",
    "        'eta0':[0, 0.1, 0.2, 0.3, 0.4, 0.5 ,0.6 ,0.7 ,0.8, 0.9],\n",
    "        'penalty':[\"none\",\"l2\",\"l1\"]\n",
    "    }\n",
    "}\n",
    "\n",
    "for model_name, parameters in model_parameters.items():\n",
    "    model = models[model_name]\n",
    "    \n",
    "    cv = KFold(n_splits=n_splits, random_state=random_state, shuffle=True)\n",
    "    grid_search = GridSearchCV(model, parameters, cv=cv, n_jobs=-1, verbose=False, scoring=scoring_method).fit(train_data_8x8, train_labels)\n",
    "    \n",
    "    best_model = grid_search.best_estimator_\n",
    "    best_score = grid_search.best_score_\n",
    "    best_params = grid_search.best_params_\n",
    "    \n",
    "    print(model_name)\n",
    "    print(\"- best_score =\", best_score)\n",
    "    print(\"best paramters:\")\n",
    "    for k,v in best_params.items():\n",
    "        print(\"-\", k, v)"
   ]
  },
  {
   "cell_type": "code",
   "execution_count": 18,
   "metadata": {
    "pycharm": {
     "name": "#%%\n"
    }
   },
   "outputs": [
    {
     "name": "stdout",
     "output_type": "stream",
     "text": [
      "DecisionTreeClassifier\n",
      "- best_score = 0.772\n",
      "best paramters:\n",
      "- max_depth None\n",
      "- min_samples_leaf 3\n",
      "- random_state 42\n"
     ]
    }
   ],
   "source": [
    "#code for 4.3.4\n",
    "from sklearn.model_selection import GridSearchCV\n",
    "\n",
    "random_state = 42\n",
    "n_splits = 5\n",
    "scoring_method = make_scorer(lambda true_target, prediction: accuracy_score(true_target, prediction))\n",
    "\n",
    "model_parameters = {\n",
    "    \"DecisionTreeClassifier\": {\n",
    "        'random_state': [random_state],\n",
    "        'min_samples_leaf':[2,5,10,20],\n",
    "        'max_depth': [None,1,2,3,4,5,6,7,8,9,10]\n",
    "    },\n",
    "    \"SVM\": {\n",
    "        'C': [1,5,10,15,20],\n",
    "        'kernel':[\"poly\",\"linear\",\"rbf\"],\n",
    "        'degree':[1,3,5,7,9],\n",
    "        'gamma':[\"scale\", \"auto\", \"float\"],\n",
    "        'random_state': [random_state]\n",
    "    }\n",
    "}\n",
    "\n",
    "for model_name, parameters in model_parameters.items():\n",
    "    model = models[model_name]\n",
    "    \n",
    "    cv = KFold(n_splits=n_splits, random_state=random_state, shuffle=True)\n",
    "    grid_search = GridSearchCV(model, parameters, cv=cv, n_jobs=-1, verbose=False, scoring=scoring_method).fit(train_data_8x8, train_labels)\n",
    "    \n",
    "    best_model = grid_search.best_estimator_\n",
    "    best_score = grid_search.best_score_\n",
    "    best_params = grid_search.best_params_\n",
    "    \n",
    "    print(model_name)\n",
    "    print(\"- best_score =\", best_score)\n",
    "    print(\"best paramters:\")\n",
    "    for k,v in best_params.items():\n",
    "        print(\"-\", k, v)"
   ]
  },
  {
   "cell_type": "code",
   "execution_count": 1,
   "metadata": {
    "collapsed": true,
    "pycharm": {
     "name": "#%%\n"
    }
   },
   "outputs": [
    {
     "ename": "NameError",
     "evalue": "name 'make_scorer' is not defined",
     "output_type": "error",
     "traceback": [
      "\u001b[1;31m---------------------------------------------------------------------------\u001b[0m",
      "\u001b[1;31mNameError\u001b[0m                                 Traceback (most recent call last)",
      "\u001b[1;32mx:\\TU Delft\\Y2Q1-Machine Learning\\Bonus\\GROUP_problem_mnist(1).ipynb Cell 19\u001b[0m in \u001b[0;36m<cell line: 6>\u001b[1;34m()\u001b[0m\n\u001b[0;32m      <a href='vscode-notebook-cell:/x%3A/TU%20Delft/Y2Q1-Machine%20Learning/Bonus/GROUP_problem_mnist%281%29.ipynb#X24sZmlsZQ%3D%3D?line=3'>4</a>\u001b[0m random_state \u001b[39m=\u001b[39m \u001b[39m42\u001b[39m\n\u001b[0;32m      <a href='vscode-notebook-cell:/x%3A/TU%20Delft/Y2Q1-Machine%20Learning/Bonus/GROUP_problem_mnist%281%29.ipynb#X24sZmlsZQ%3D%3D?line=4'>5</a>\u001b[0m n_splits \u001b[39m=\u001b[39m \u001b[39m5\u001b[39m\n\u001b[1;32m----> <a href='vscode-notebook-cell:/x%3A/TU%20Delft/Y2Q1-Machine%20Learning/Bonus/GROUP_problem_mnist%281%29.ipynb#X24sZmlsZQ%3D%3D?line=5'>6</a>\u001b[0m scoring_method \u001b[39m=\u001b[39m make_scorer(\u001b[39mlambda\u001b[39;00m true_target, prediction: accuracy_score(true_target, prediction))\n\u001b[0;32m      <a href='vscode-notebook-cell:/x%3A/TU%20Delft/Y2Q1-Machine%20Learning/Bonus/GROUP_problem_mnist%281%29.ipynb#X24sZmlsZQ%3D%3D?line=7'>8</a>\u001b[0m model_parameters \u001b[39m=\u001b[39m {\n\u001b[0;32m      <a href='vscode-notebook-cell:/x%3A/TU%20Delft/Y2Q1-Machine%20Learning/Bonus/GROUP_problem_mnist%281%29.ipynb#X24sZmlsZQ%3D%3D?line=8'>9</a>\u001b[0m     \u001b[39m\"\u001b[39m\u001b[39mSGDClassifier\u001b[39m\u001b[39m\"\u001b[39m: {\n\u001b[0;32m     <a href='vscode-notebook-cell:/x%3A/TU%20Delft/Y2Q1-Machine%20Learning/Bonus/GROUP_problem_mnist%281%29.ipynb#X24sZmlsZQ%3D%3D?line=9'>10</a>\u001b[0m         \u001b[39m'\u001b[39m\u001b[39mC\u001b[39m\u001b[39m'\u001b[39m: [\u001b[39m0.1\u001b[39m, \u001b[39m0.2\u001b[39m, \u001b[39m0.3\u001b[39m, \u001b[39m0.4\u001b[39m, \u001b[39m0.5\u001b[39m, \u001b[39m0.6\u001b[39m, \u001b[39m0.7\u001b[39m ,\u001b[39m0.8\u001b[39m, \u001b[39m0.9\u001b[39m,\u001b[39m1\u001b[39m],\n\u001b[1;32m   (...)\u001b[0m\n\u001b[0;32m     <a href='vscode-notebook-cell:/x%3A/TU%20Delft/Y2Q1-Machine%20Learning/Bonus/GROUP_problem_mnist%281%29.ipynb#X24sZmlsZQ%3D%3D?line=12'>13</a>\u001b[0m     }\n\u001b[0;32m     <a href='vscode-notebook-cell:/x%3A/TU%20Delft/Y2Q1-Machine%20Learning/Bonus/GROUP_problem_mnist%281%29.ipynb#X24sZmlsZQ%3D%3D?line=13'>14</a>\u001b[0m }\n\u001b[0;32m     <a href='vscode-notebook-cell:/x%3A/TU%20Delft/Y2Q1-Machine%20Learning/Bonus/GROUP_problem_mnist%281%29.ipynb#X24sZmlsZQ%3D%3D?line=15'>16</a>\u001b[0m \u001b[39mfor\u001b[39;00m model_name, parameters \u001b[39min\u001b[39;00m model_parameters\u001b[39m.\u001b[39mitems():\n",
      "\u001b[1;31mNameError\u001b[0m: name 'make_scorer' is not defined"
     ]
    }
   ],
   "source": [
    "#code for 4.3.5\n",
    "from sklearn.model_selection import GridSearchCV\n",
    "\n",
    "random_state = 42\n",
    "n_splits = 5\n",
    "scoring_method = make_scorer(lambda true_target, prediction: accuracy_score(true_target, prediction))\n",
    "\n",
    "model_parameters = {\n",
    "    \"SGDClassifier\": {\n",
    "        'C': [0.1, 0.2, 0.3, 0.4, 0.5, 0.6, 0.7 ,0.8, 0.9,1],\n",
    "        'random_state': [random_state],\n",
    "        'max_iter': [100, 200, 300, 400, 500]\n",
    "    }\n",
    "}\n",
    "\n",
    "for model_name, parameters in model_parameters.items():\n",
    "    model = models[model_name]\n",
    "    \n",
    "    cv = KFold(n_splits=n_splits, random_state=random_state, shuffle=True)\n",
    "    grid_search = GridSearchCV(model, parameters, cv=cv, n_jobs=-1, verbose=False, scoring=scoring_method).fit(train_data, train_labels)\n",
    "    \n",
    "    best_model = grid_search.best_estimator_\n",
    "    best_score = grid_search.best_score_\n",
    "    best_params = grid_search.best_params_\n",
    "    \n",
    "    print(model_name)\n",
    "    print(\"- best_score =\", best_score)\n",
    "    print(\"best paramters:\")\n",
    "    for k,v in best_params.items():\n",
    "        print(\"-\", k, v)"
   ]
  },
  {
   "cell_type": "code",
   "execution_count": 20,
   "metadata": {
    "collapsed": true,
    "pycharm": {
     "name": "#%%\n"
    }
   },
   "outputs": [
    {
     "name": "stdout",
     "output_type": "stream",
     "text": [
      "THIS PART IS FOR 28x28\n",
      "mean                     std\n",
      "0.5744 0.030280466751136225\n",
      "0.7269333333333334 0.0062765878911678966\n",
      "0.9277333333333333 0.0028472208672083543\n",
      "0.9458666666666667 0.0067777413478073865\n",
      "0.8341333333333333 0.01778088861671428\n",
      "THIS PART IS FOR 8x8\n",
      "mean                     std\n",
      "0.5837333333333333 0.01823110894414636\n",
      "0.772 0.022199099080818553\n",
      "0.9266666666666665 0.0075894663844041175\n",
      "0.9485333333333333 0.005568163471418959\n",
      "0.7994666666666667 0.027410946718418865\n"
     ]
    },
    {
     "data": {
      "image/png": "[encoded data removed]",
      "text/plain": [
       "<Figure size 432x288 with 1 Axes>"
      ]
     },
     "metadata": {
      "needs_background": "light"
     },
     "output_type": "display_data"
    },
    {
     "data": {
      "image/png": "[encoded data removed]",
      "text/plain": [
       "<Figure size 432x288 with 1 Axes>"
      ]
     },
     "metadata": {
      "needs_background": "light"
     },
     "output_type": "display_data"
    },
    {
     "data": {
      "text/plain": [
       "<Figure size 432x288 with 0 Axes>"
      ]
     },
     "metadata": {},
     "output_type": "display_data"
    }
   ],
   "source": [
    "#code for 4.3.6\n",
    "train_data_8x8 = np.reshape(mnist_8x8_train, (3750, 64))\n",
    "models = {\n",
    "    \"GaussianNB\": GaussianNB(),\n",
    "    \"DecisionTreeClassifier\": DecisionTreeClassifier(max_depth=None, min_samples_leaf=3, random_state=random_state),\n",
    "    \"KNeighborsClassifier\": KNeighborsClassifier(n_neighbors=4, weights=\"distance\"),\n",
    "    \"SVM\": SVC(C = 15, kernel = 'rbf',gamma='scale',degree=1, random_state = 42),\n",
    "    \"SGDClassifier\": SGDClassifier(loss='log', alpha=0.1, learning_rate = 'constant', eta0=0.2, penalty = 'none', random_state=42)\n",
    "}\n",
    "print(\"THIS PART IS FOR 28x28\")\n",
    "metrics = []\n",
    "for name, model in models.items():\n",
    "    metrics_acc = k_fold_fit_and_evaluate(train_data, train_labels, model, scoring_method, n_splits = 5)\n",
    "    metrics.append(metrics_acc)\n",
    "    plt.plot(metrics_acc, label = name)\n",
    "    plt.legend()\n",
    "print(\"mean         \", \"           std\")\n",
    "for temp in metrics:\n",
    "    print(np.mean(temp), np.std(temp))\n",
    "plt.figure()\n",
    "print(\"THIS PART IS FOR 8x8\")\n",
    "metrics1 = []\n",
    "for name, model in models.items():\n",
    "    metrics_acc1 = k_fold_fit_and_evaluate(train_data_8x8, train_labels, model, scoring_method, n_splits = 5)\n",
    "    metrics1.append(metrics_acc1)\n",
    "    plt.plot(metrics_acc1, label = name)\n",
    "    plt.legend()\n",
    "plt.figure()\n",
    "print(\"mean         \", \"           std\")\n",
    "for temp in metrics1:\n",
    "    print(np.mean(temp), np.std(temp))"
   ]
  },
  {
   "cell_type": "markdown",
   "metadata": {
    "pycharm": {
     "name": "#%% md\n"
    }
   },
   "source": [
    "#### Question 4.3.7"
   ]
  },
  {
   "cell_type": "code",
   "execution_count": 21,
   "metadata": {
    "collapsed": true,
    "pycharm": {
     "name": "#%%\n"
    }
   },
   "outputs": [],
   "source": [
    "# TODO\n",
    "test_data = np.reshape(mnist_8x8_test, (mnist_8x8_test.shape[0], 64))\n",
    "group_number = 66 # TODO replace this with the number of your group on Brightspace\n",
    "svm = SVC(C = 15, kernel = 'rbf',gamma='scale',degree=1, random_state = 42).fit(train_data_8x8, train_labels)\n",
    "predictions = svm.predict(test_data) # TODO replace this with you own predictions\n",
    "\n",
    "pd.DataFrame(predictions).to_csv(f\"{group_number}_classes_problem_mnist.txt\", index=False, header=False)"
   ]
  }
 ],
 "metadata": {
  "kernelspec": {
   "display_name": "Python 3.9.12 ('base')",
   "language": "python",
   "name": "python3"
  },
  "language_info": {
   "codemirror_mode": {
    "name": "ipython",
    "version": 3
   },
   "file_extension": ".py",
   "mimetype": "text/x-python",
   "name": "python",
   "nbconvert_exporter": "python",
   "pygments_lexer": "ipython3",
   "version": "3.9.12"
  },
  "vscode": {
   "interpreter": {
    "hash": "808538b340e3342d3e49080995b54ad7a51904b983edae0d83c8645e36dd7166"
   }
  }
 },
 "nbformat": 4,
 "nbformat_minor": 4
}
